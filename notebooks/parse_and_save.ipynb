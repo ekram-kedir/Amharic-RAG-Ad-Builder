{
 "cells": [
  {
   "cell_type": "markdown",
   "metadata": {},
   "source": [
    "### Parse important information from initial raw file convert and save it to parsed dir as dataframe"
   ]
  },
  {
   "cell_type": "markdown",
   "metadata": {},
   "source": [
    "#### Import modules"
   ]
  },
  {
   "cell_type": "code",
   "execution_count": 2,
   "metadata": {},
   "outputs": [],
   "source": [
    "import sys, os\n",
    "import pandas as pd\n",
    "sys.path.append(os.path.abspath(os.path.join('../scripts')))\n",
    "from util import Util"
   ]
  },
  {
   "cell_type": "markdown",
   "metadata": {},
   "source": [
    "#### Init Variables"
   ]
  },
  {
   "cell_type": "code",
   "execution_count": 3,
   "metadata": {},
   "outputs": [],
   "source": [
    "raw_dir = \"../data/raw\"\n",
    "parsed_dir = \"../data/parsed\"\n",
    "file_name = \"ኢትዮ መረጃ - NEWS\"\n",
    "util = Util()"
   ]
  },
  {
   "cell_type": "markdown",
   "metadata": {},
   "source": [
    "#### Read File"
   ]
  },
  {
   "cell_type": "code",
   "execution_count": 4,
   "metadata": {},
   "outputs": [],
   "source": [
    "data = util.read_file(f'{raw_dir}/{file_name}.json')"
   ]
  },
  {
   "cell_type": "code",
   "execution_count": 5,
   "metadata": {},
   "outputs": [],
   "source": [
    "parsed_message = util.parse_messages(data['messages'])\n",
    "# parsed_message"
   ]
  },
  {
   "cell_type": "markdown",
   "metadata": {},
   "source": [
    "#### Create pandas dataframe from parsed messages"
   ]
  },
  {
   "cell_type": "code",
   "execution_count": 6,
   "metadata": {},
   "outputs": [
    {
     "data": {
      "text/html": [
       "<div>\n",
       "<style scoped>\n",
       "    .dataframe tbody tr th:only-of-type {\n",
       "        vertical-align: middle;\n",
       "    }\n",
       "\n",
       "    .dataframe tbody tr th {\n",
       "        vertical-align: top;\n",
       "    }\n",
       "\n",
       "    .dataframe thead th {\n",
       "        text-align: right;\n",
       "    }\n",
       "</style>\n",
       "<table border=\"1\" class=\"dataframe\">\n",
       "  <thead>\n",
       "    <tr style=\"text-align: right;\">\n",
       "      <th></th>\n",
       "      <th>text</th>\n",
       "      <th>date</th>\n",
       "    </tr>\n",
       "    <tr>\n",
       "      <th>id</th>\n",
       "      <th></th>\n",
       "      <th></th>\n",
       "    </tr>\n",
       "  </thead>\n",
       "  <tbody>\n",
       "    <tr>\n",
       "      <th>3</th>\n",
       "      <td>ከዛይራይድ የተላከ መልዕክት፦\\n \\nበኮሮና  ቫይረስ  ስርጭትን  ለመቀነ...</td>\n",
       "      <td>2020-03-23T18:47:16</td>\n",
       "    </tr>\n",
       "    <tr>\n",
       "      <th>4</th>\n",
       "      <td>የአውቶብስ መናኸሪያ በአልጀርስ!\\n\\nአልጀርያ በኮሮና ቫይረስ ወረርሽኝ ...</td>\n",
       "      <td>2020-03-23T19:12:39</td>\n",
       "    </tr>\n",
       "    <tr>\n",
       "      <th>5</th>\n",
       "      <td>የእኛ ሀገር የኑሮ ሁኔታ ማህበራዊ ርቀትን በቶሎ ለመተግበር አስቸጋሪ ቢሆ...</td>\n",
       "      <td>2020-03-23T19:22:18</td>\n",
       "    </tr>\n",
       "    <tr>\n",
       "      <th>6</th>\n",
       "      <td>በኮቪድ-19 ህይወቱ ያለፈው የ30 ዓመቱ ጋዜጠኛ!\\n\\nበዚምባቡዌ ሕይወቱ...</td>\n",
       "      <td>2020-03-23T19:29:35</td>\n",
       "    </tr>\n",
       "    <tr>\n",
       "      <th>7</th>\n",
       "      <td>በአማራ ክልል የኮሮና ቫይረስን ለመከላከል የተቋቋመው ኮማንድ ፖስት መግለ...</td>\n",
       "      <td>2020-03-23T19:45:57</td>\n",
       "    </tr>\n",
       "  </tbody>\n",
       "</table>\n",
       "</div>"
      ],
      "text/plain": [
       "                                                 text                 date\n",
       "id                                                                        \n",
       "3   ከዛይራይድ የተላከ መልዕክት፦\\n \\nበኮሮና  ቫይረስ  ስርጭትን  ለመቀነ...  2020-03-23T18:47:16\n",
       "4   የአውቶብስ መናኸሪያ በአልጀርስ!\\n\\nአልጀርያ በኮሮና ቫይረስ ወረርሽኝ ...  2020-03-23T19:12:39\n",
       "5   የእኛ ሀገር የኑሮ ሁኔታ ማህበራዊ ርቀትን በቶሎ ለመተግበር አስቸጋሪ ቢሆ...  2020-03-23T19:22:18\n",
       "6   በኮቪድ-19 ህይወቱ ያለፈው የ30 ዓመቱ ጋዜጠኛ!\\n\\nበዚምባቡዌ ሕይወቱ...  2020-03-23T19:29:35\n",
       "7   በአማራ ክልል የኮሮና ቫይረስን ለመከላከል የተቋቋመው ኮማንድ ፖስት መግለ...  2020-03-23T19:45:57"
      ]
     },
     "execution_count": 6,
     "metadata": {},
     "output_type": "execute_result"
    }
   ],
   "source": [
    "# Convert the dictionary to a Pandas DataFrame\n",
    "df = pd.DataFrame(parsed_message)\n",
    "df.set_index('id', inplace=True)\n",
    "df.head()"
   ]
  },
  {
   "cell_type": "code",
   "execution_count": 8,
   "metadata": {},
   "outputs": [
    {
     "data": {
      "text/plain": [
       "(12017, 2)"
      ]
     },
     "execution_count": 8,
     "metadata": {},
     "output_type": "execute_result"
    }
   ],
   "source": [
    "df.shape"
   ]
  },
  {
   "cell_type": "markdown",
   "metadata": {},
   "source": [
    "#### Save"
   ]
  },
  {
   "cell_type": "code",
   "execution_count": 7,
   "metadata": {},
   "outputs": [],
   "source": [
    "df.to_csv(f'{parsed_dir}/{file_name}.csv')"
   ]
  },
  {
   "cell_type": "code",
   "execution_count": null,
   "metadata": {},
   "outputs": [],
   "source": []
  }
 ],
 "metadata": {
  "kernelspec": {
   "display_name": "venv",
   "language": "python",
   "name": "python3"
  },
  "language_info": {
   "codemirror_mode": {
    "name": "ipython",
    "version": 3
   },
   "file_extension": ".py",
   "mimetype": "text/x-python",
   "name": "python",
   "nbconvert_exporter": "python",
   "pygments_lexer": "ipython3",
   "version": "3.10.12"
  }
 },
 "nbformat": 4,
 "nbformat_minor": 2
}
